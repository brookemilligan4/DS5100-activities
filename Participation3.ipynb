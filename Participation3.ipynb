{
 "cells": [
  {
   "cell_type": "code",
   "execution_count": 2,
   "id": "978cefb4-6942-4039-9e14-5d517dddb698",
   "metadata": {},
   "outputs": [],
   "source": [
    "xx=[-2,8,0,5,6]"
   ]
  },
  {
   "cell_type": "code",
   "execution_count": 4,
   "id": "40ecbfd0-2557-40db-a4be-b3b665401be0",
   "metadata": {},
   "outputs": [],
   "source": [
    "max_val = max(xx)"
   ]
  },
  {
   "cell_type": "code",
   "execution_count": 6,
   "id": "fa61876c-398b-4d26-a009-6abbda2c8e25",
   "metadata": {},
   "outputs": [
    {
     "name": "stdout",
     "output_type": "stream",
     "text": [
      "-2\n",
      "max_val\n",
      "0\n",
      "5\n",
      "6\n"
     ]
    }
   ],
   "source": [
    "for x in xx:\n",
    "    if x < max_val:\n",
    "        print(x)\n",
    "    else:\n",
    "        print('max_val')"
   ]
  },
  {
   "cell_type": "code",
   "execution_count": 8,
   "id": "c5e75916-5846-40b2-845c-8e7b2663f441",
   "metadata": {},
   "outputs": [
    {
     "name": "stdout",
     "output_type": "stream",
     "text": [
      "0\n",
      "10\n",
      "20\n",
      "30\n",
      "40\n",
      "50\n",
      "60\n",
      "70\n",
      "80\n",
      "90\n"
     ]
    }
   ],
   "source": [
    "it = 0\n",
    "max_iter = 100\n",
    "while it < max_iter:\n",
    "    if(it == 0) or (it % 10 == 0):\n",
    "        print(it)\n",
    "    it += 1"
   ]
  },
  {
   "cell_type": "code",
   "execution_count": 10,
   "id": "4dd99d29-54c0-4801-98ad-31dd4899ba4e",
   "metadata": {},
   "outputs": [],
   "source": [
    "names = [\"Tom\", \"Bob\", \"Sarah\", \"Julie\"]"
   ]
  },
  {
   "cell_type": "code",
   "execution_count": 12,
   "id": "885078ca-caee-4711-8f71-eb2f752e5953",
   "metadata": {},
   "outputs": [
    {
     "name": "stdout",
     "output_type": "stream",
     "text": [
      "tom\n",
      "bob\n",
      "sarah\n",
      "julie\n"
     ]
    }
   ],
   "source": [
    "for name in names:\n",
    "    print(name.lower())"
   ]
  },
  {
   "cell_type": "code",
   "execution_count": 14,
   "id": "d1e33d45-9ff4-4250-ae6c-9da1ff9d39c9",
   "metadata": {},
   "outputs": [
    {
     "name": "stdout",
     "output_type": "stream",
     "text": [
      "tom\n",
      "bob\n",
      "sarah\n",
      "julie\n"
     ]
    }
   ],
   "source": [
    "_=[print(x.lower()) for x in names]"
   ]
  },
  {
   "cell_type": "code",
   "execution_count": 16,
   "id": "01da5ede-c36b-4c1b-88e9-879d05a3f38e",
   "metadata": {},
   "outputs": [
    {
     "name": "stdout",
     "output_type": "stream",
     "text": [
      "LA 11111\n",
      "Miami 33333\n"
     ]
    }
   ],
   "source": [
    "cities = {'LA':11111,'Miami':33333}\n",
    "for cit, zi in cities.items():\n",
    "    print(cit,zi)"
   ]
  },
  {
   "cell_type": "code",
   "execution_count": 18,
   "id": "1eda60f7-18a3-4eef-ab19-c4e6aaad5f12",
   "metadata": {},
   "outputs": [
    {
     "name": "stdout",
     "output_type": "stream",
     "text": [
      "LA 11111\n",
      "Miami 33333\n"
     ]
    }
   ],
   "source": [
    "for cit in cities:\n",
    "    print(cit, cities[cit])"
   ]
  },
  {
   "cell_type": "code",
   "execution_count": 26,
   "id": "c10c81ba-fde8-42b3-b1b7-e049b87f03bc",
   "metadata": {},
   "outputs": [
    {
     "ename": "TypeError",
     "evalue": "unsupported operand type(s) for ** or pow(): 'list' and 'int'",
     "output_type": "error",
     "traceback": [
      "\u001b[0;31m---------------------------------------------------------------------------\u001b[0m",
      "\u001b[0;31mTypeError\u001b[0m                                 Traceback (most recent call last)",
      "Cell \u001b[0;32mIn[26], line 2\u001b[0m\n\u001b[1;32m      1\u001b[0m values \u001b[38;5;241m=\u001b[39m [\u001b[38;5;241m1\u001b[39m,\u001b[38;5;241m2\u001b[39m,\u001b[38;5;241m3\u001b[39m,\u001b[38;5;241m4\u001b[39m]\n\u001b[0;32m----> 2\u001b[0m cubes \u001b[38;5;241m=\u001b[39m [values\u001b[38;5;241m*\u001b[39m\u001b[38;5;241m*\u001b[39m\u001b[38;5;241m3\u001b[39m \u001b[38;5;28;01mfor\u001b[39;00m value \u001b[38;5;129;01min\u001b[39;00m values]\n\u001b[1;32m      3\u001b[0m cubes\n",
      "\u001b[0;31mTypeError\u001b[0m: unsupported operand type(s) for ** or pow(): 'list' and 'int'"
     ]
    }
   ],
   "source": [
    "values = [1,7,3,4]\n",
    "cubes = [values**3 for val in values]\n",
    "cubes"
   ]
  },
  {
   "cell_type": "code",
   "execution_count": null,
   "id": "2b4e4f30-ea5f-4fab-87ee-a2d993367769",
   "metadata": {},
   "outputs": [],
   "source": []
  }
 ],
 "metadata": {
  "kernelspec": {
   "display_name": "Python 3 (ipykernel)",
   "language": "python",
   "name": "python3"
  },
  "language_info": {
   "codemirror_mode": {
    "name": "ipython",
    "version": 3
   },
   "file_extension": ".py",
   "mimetype": "text/x-python",
   "name": "python",
   "nbconvert_exporter": "python",
   "pygments_lexer": "ipython3",
   "version": "3.12.4"
  }
 },
 "nbformat": 4,
 "nbformat_minor": 5
}
