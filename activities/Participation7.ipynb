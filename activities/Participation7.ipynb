{
 "cells": [
  {
   "cell_type": "code",
   "execution_count": 6,
   "id": "df8e8a0a-7a5d-4270-9d06-d3b0ed2b4f98",
   "metadata": {},
   "outputs": [],
   "source": [
    "class MyClass():\n",
    "    \n",
    "    att1 = \"foo\"\n",
    "    \n",
    "    def __init__(self, att2):\n",
    "        self.att2 = att2\n",
    "    \n",
    "    def add(self):|\n",
    "        self.msg = self.att1 + ' ' + self.att2\n",
    "        print(self.msg)"
   ]
  },
  {
   "cell_type": "code",
   "execution_count": 8,
   "id": "342c4cea-312f-4e68-97c5-bc4f8fb575f4",
   "metadata": {},
   "outputs": [],
   "source": [
    "obj_1 = MyClass(\"This is not a pipe\")"
   ]
  },
  {
   "cell_type": "code",
   "execution_count": 12,
   "id": "2b1e8313-02b7-4095-93fc-dfc3795c897d",
   "metadata": {},
   "outputs": [
    {
     "data": {
      "text/plain": [
       "('foo', 'This is not a pipe')"
      ]
     },
     "execution_count": 12,
     "metadata": {},
     "output_type": "execute_result"
    }
   ],
   "source": [
    "obj_1.att1, obj_1.att2"
   ]
  },
  {
   "cell_type": "code",
   "execution_count": null,
   "id": "7523a8ab-e9c5-47cc-8bae-95ffde77acc2",
   "metadata": {},
   "outputs": [],
   "source": [
    "import pandas as pd\n",
    "\n",
    "class Student:\n",
    "    def __init__(self, student_name, \n",
    "        self.name = student_name\n",
    "        self.id = student_id\n",
    "        self.grades = pd.Series(dtype=float)\n",
    "    def add_grade(self, assignment, grade):\n",
    "        self.grades.loc[assignment] = grade\n",
    "    def show_grades(self):\n",
    "        self.grades.plot.bar(title=f\"Grades for {self.name} ({self.id})\")"
   ]
  },
  {
   "cell_type": "code",
   "execution_count": 33,
   "id": "7f661ef5-64b9-46d0-a210-e5ac6ffe543f",
   "metadata": {},
   "outputs": [
    {
     "ename": "SyntaxError",
     "evalue": "unterminated string literal (detected at line 1) (2531485317.py, line 1)",
     "output_type": "error",
     "traceback": [
      "\u001b[0;36m  Cell \u001b[0;32mIn[33], line 1\u001b[0;36m\u001b[0m\n\u001b[0;31m    student1 = Student(\"Quetzil Castaneda, 'qc4x')\u001b[0m\n\u001b[0m                       ^\u001b[0m\n\u001b[0;31mSyntaxError\u001b[0m\u001b[0;31m:\u001b[0m unterminated string literal (detected at line 1)\n"
     ]
    }
   ],
   "source": [
    "student1 = Student(\"Quetzil Castaneda, 'qc4x')             "
   ]
  },
  {
   "cell_type": "code",
   "execution_count": null,
   "id": "267a1082-658f-4a25-adcb-aa4266ad6c16",
   "metadata": {},
   "outputs": [],
   "source": []
  }
 ],
 "metadata": {
  "kernelspec": {
   "display_name": "Python 3 (ipykernel)",
   "language": "python",
   "name": "python3"
  },
  "language_info": {
   "codemirror_mode": {
    "name": "ipython",
    "version": 3
   },
   "file_extension": ".py",
   "mimetype": "text/x-python",
   "name": "python",
   "nbconvert_exporter": "python",
   "pygments_lexer": "ipython3",
   "version": "3.12.4"
  }
 },
 "nbformat": 4,
 "nbformat_minor": 5
}
