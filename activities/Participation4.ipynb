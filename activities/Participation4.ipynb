{
 "cells": [
  {
   "cell_type": "code",
   "execution_count": 38,
   "id": "2a1a747b-cc66-4706-bb0e-9d36f0e7b3c7",
   "metadata": {},
   "outputs": [],
   "source": [
    "def verify_string_length(text,val):\n",
    "    return length(text)==val\n",
    "val = 30\n",
    "text = \"Is this string the right length?\""
   ]
  },
  {
   "cell_type": "code",
   "execution_count": 28,
   "id": "686a5037-59a8-4b59-96d9-fadc34e6f284",
   "metadata": {},
   "outputs": [],
   "source": [
    "def square_args(*vars):\n",
    "    for var in vars:\n",
    "        print(var**2)\n",
    "    return None"
   ]
  },
  {
   "cell_type": "code",
   "execution_count": null,
   "id": "fa74ce2d-7eda-4cca-8213-20d8b1b87a4e",
   "metadata": {},
   "outputs": [],
   "source": [
    "make_numeronym()"
   ]
  },
  {
   "cell_type": "code",
   "execution_count": 50,
   "id": "6e2dd7f8-0247-4675-b37e-45dacfaacd0d",
   "metadata": {},
   "outputs": [],
   "source": [
    "def val(x):\n",
    "    result = val - 5\n",
    "    if result >= 0:\n",
    "        return 1\n",
    "    else:\n",
    "        return ()"
   ]
  },
  {
   "cell_type": "code",
   "execution_count": 54,
   "id": "4aaa9295-321d-49cf-8c02-0990b4711f4b",
   "metadata": {},
   "outputs": [],
   "source": [
    "in_range = lambda"
   ]
  },
  {
   "cell_type": "code",
   "execution_count": null,
   "id": "74478547-a01f-4652-9d4f-5dda31621bb2",
   "metadata": {},
   "outputs": [],
   "source": []
  }
 ],
 "metadata": {
  "kernelspec": {
   "display_name": "Python 3 (ipykernel)",
   "language": "python",
   "name": "python3"
  },
  "language_info": {
   "codemirror_mode": {
    "name": "ipython",
    "version": 3
   },
   "file_extension": ".py",
   "mimetype": "text/x-python",
   "name": "python",
   "nbconvert_exporter": "python",
   "pygments_lexer": "ipython3",
   "version": "3.12.4"
  }
 },
 "nbformat": 4,
 "nbformat_minor": 5
}
